{
 "cells": [
  {
   "cell_type": "markdown",
   "metadata": {},
   "source": [
    "# Basic Prompt Structures Tutorial\n",
    "\n",
    "## Overview\n",
    "\n",
    "This tutorial focuses on two fundamental types of prompt structures:\n",
    "1. Single-turn prompts\n",
    "2. Multi-turn prompts (conversations)\n",
    "\n",
    "We'll use OpenAI's GPT model and LangChain to demonstrate these concepts.\n",
    "\n",
    "## Motivation\n",
    "\n",
    "Understanding different prompt structures is crucial for effective communication with AI models. Single-turn prompts are useful for quick, straightforward queries, while multi-turn prompts enable more complex, context-aware interactions. Mastering these structures allows for more versatile and effective use of AI in various applications.\n",
    "\n",
    "## Key Components\n",
    "\n",
    "1. **Single-turn Prompts**: One-shot interactions with the language model.\n",
    "2. **Multi-turn Prompts**: Series of interactions that maintain context.\n",
    "3. **Prompt Templates**: Reusable structures for consistent prompting.\n",
    "4. **Conversation Chains**: Maintaining context across multiple interactions.\n",
    "\n",
    "## Method Details\n",
    "\n",
    "We'll use a combination of OpenAI's API and LangChain library to demonstrate these prompt structures. The tutorial will include practical examples and comparisons of different prompt types."
   ]
  },
  {
   "cell_type": "markdown",
   "metadata": {},
   "source": [
    "## Setup\n",
    "\n",
    "First, let's import the necessary libraries and set up our environment."
   ]
  },
  {
   "cell_type": "code",
   "execution_count": 3,
   "metadata": {},
   "outputs": [],
   "source": [
    "import os\n",
    "#from langchain_openai import ChatOpenAI\n",
    "from langchain.prompts import PromptTemplate\n",
    "from langchain.chains import ConversationChain\n",
    "from langchain.memory import ConversationBufferMemory\n",
    "\n",
    "# from dotenv import load_dotenv\n",
    "# load_dotenv()\n",
    "\n",
    "# os.environ[\"OPENAI_API_KEY\"] = os.getenv('OPENAI_API_KEY') # OpenAI API key\n",
    "# # Initialize the language model\n",
    "# llm = ChatOpenAI(model=\"gpt-4o-mini\")"
   ]
  },
  {
   "cell_type": "code",
   "execution_count": null,
   "metadata": {},
   "outputs": [
    {
     "data": {
      "text/plain": [
       "ChatGroq(client=<groq.resources.chat.completions.Completions object at 0x0000021408AA52B0>, async_client=<groq.resources.chat.completions.AsyncCompletions object at 0x0000021408CD13D0>, model_name='llama-3.3-70b-versatile', model_kwargs={}, groq_api_key=SecretStr('**********'), max_tokens=512)"
      ]
     },
     "execution_count": 5,
     "metadata": {},
     "output_type": "execute_result"
    }
   ],
   "source": [
    "from langchain_google_genai import ChatGoogleGenerativeAI\n",
    "from langchain_groq import ChatGroq\n",
    "\n",
    "groq_api=\"GROCQ_API_KEY\"\n",
    "\n",
    "llm = ChatGroq(\n",
    "    api_key=groq_api,\n",
    "    model=\"llama-3.3-70b-versatile\",\n",
    "    temperature=0.7,\n",
    "    max_tokens=512\n",
    ")\n",
    "llm"
   ]
  },
  {
   "cell_type": "markdown",
   "metadata": {},
   "source": [
    "## 1. Single-turn Prompts\n",
    "\n",
    "Single-turn prompts are one-shot interactions with the language model. They consist of a single input (prompt) and generate a single output (response)."
   ]
  },
  {
   "cell_type": "code",
   "execution_count": 7,
   "metadata": {},
   "outputs": [
    {
     "name": "stdout",
     "output_type": "stream",
     "text": [
      "The three primary colors are:\n",
      "\n",
      "1. Red\n",
      "2. Blue\n",
      "3. Yellow\n",
      "\n",
      "These colors cannot be created by mixing other colors together, and they are the base colors used to create all other colors.\n"
     ]
    }
   ],
   "source": [
    "single_turn_prompt = \"What are the three primary colors?\"\n",
    "print(llm.invoke(single_turn_prompt).content)"
   ]
  },
  {
   "cell_type": "markdown",
   "metadata": {},
   "source": [
    "Now, let's use a PromptTemplate to create a more structured single-turn prompt:"
   ]
  },
  {
   "cell_type": "code",
   "execution_count": 9,
   "metadata": {},
   "outputs": [
    {
     "name": "stdout",
     "output_type": "stream",
     "text": [
      "**Logistic Regression Explanation:**\n",
      "Logistic regression is a statistical model used to predict the probability of a categorical outcome based on one or more predictor variables. It is commonly used for binary classification problems, where the outcome can have only two possible values (e.g., 0 and 1, yes and no, etc.). The model estimates the probability of the positive outcome (e.g., 1, yes) using a logistic function, which maps the linear combination of predictor variables to a value between 0 and 1.\n",
      "\n",
      "**Three Main Concepts:**\n",
      "\n",
      "1. **Odds Ratio**: The odds ratio represents the change in odds of the positive outcome for a one-unit change in a predictor variable, while holding all other variables constant.\n",
      "2. **Logit Function**: The logit function, also known as the logistic function, is used to model the probability of the positive outcome. It maps the linear combination of predictor variables to a value between 0 and 1, which represents the predicted probability.\n",
      "3. **Probability Prediction**: The probability prediction is the estimated probability of the positive outcome based on the logistic regression model. It is calculated using the logit function and is typically represented as a value between 0 and 1, where 0 represents a 0% chance of the positive outcome and 1 represents a 100% chance.\n"
     ]
    }
   ],
   "source": [
    "structured_prompt = PromptTemplate(\n",
    "    input_variables=[\"topic\"],\n",
    "    template=\"Provide a brief explanation of {topic} and list its three main concepts.\"\n",
    ")\n",
    "\n",
    "chain = structured_prompt | llm # Chain \n",
    "print(chain.invoke({\"topic\": \"logistic regression\"}).content)"
   ]
  },
  {
   "cell_type": "markdown",
   "metadata": {},
   "source": [
    "## 2. Multi-turn Prompts (Conversations)\n",
    "\n",
    "Multi-turn prompts involve a series of interactions with the language model, allowing for more complex and context-aware conversations."
   ]
  },
  {
   "cell_type": "markdown",
   "metadata": {},
   "source": [
    "**Convesrational chain**\n",
    "\n",
    "- A chain in LangChain that wraps an LLM and keeps conversation context.\n",
    "\n",
    "- It automatically handles passing history + new user input to the model.\n",
    "\n",
    "- You don’t have to manually build prompts each time."
   ]
  },
  {
   "cell_type": "code",
   "execution_count": 14,
   "metadata": {},
   "outputs": [
    {
     "name": "stderr",
     "output_type": "stream",
     "text": [
      "C:\\Users\\omkar\\AppData\\Local\\Temp\\ipykernel_36192\\1049815869.py:3: LangChainDeprecationWarning: The class `ConversationChain` was deprecated in LangChain 0.2.7 and will be removed in 1.0. Use :class:`~langchain_core.runnables.history.RunnableWithMessageHistory` instead.\n",
      "  conversation = ConversationChain(llm=llm, verbose=True)\n",
      "E:\\Anaconda\\Lib\\site-packages\\pydantic\\main.py:253: LangChainDeprecationWarning: Please see the migration guide at: https://python.langchain.com/docs/versions/migrating_memory/\n",
      "  validated_self = self.__pydantic_validator__.validate_python(data, self_instance=self)\n"
     ]
    },
    {
     "name": "stdout",
     "output_type": "stream",
     "text": [
      "\n",
      "\n",
      "\u001b[1m> Entering new ConversationChain chain...\u001b[0m\n",
      "Prompt after formatting:\n",
      "\u001b[32;1m\u001b[1;3mThe following is a friendly conversation between a human and an AI. The AI is talkative and provides lots of specific details from its context. If the AI does not know the answer to a question, it truthfully says it does not know.\n",
      "\n",
      "Current conversation:\n",
      "\n",
      "Human: Hello, who are you?\n",
      "AI:\u001b[0m\n",
      "\n",
      "\u001b[1m> Finished chain.\u001b[0m\n",
      "Hello, it's nice to meet you. I am an artificial intelligence language model, which means I'm a computer program designed to understand and generate human-like text. My knowledge was built from a massive corpus of text data, totaling over 1.5 trillion parameters and 45 terabytes of information. I was trained on a dataset that includes a wide range of texts from the internet, books, and other sources, up until my knowledge cutoff date of December 2023.\n",
      "\n",
      "I can provide information on a vast array of topics, from science and history to entertainment and culture. I can also engage in conversation, answer questions, and even generate creative content like stories or poems. My primary function is to assist and communicate with users like you, so please feel free to ask me anything that's on your mind. I'm here to help and chat with you!\n",
      "\n",
      "\n",
      "\u001b[1m> Entering new ConversationChain chain...\u001b[0m\n",
      "Prompt after formatting:\n",
      "\u001b[32;1m\u001b[1;3mThe following is a friendly conversation between a human and an AI. The AI is talkative and provides lots of specific details from its context. If the AI does not know the answer to a question, it truthfully says it does not know.\n",
      "\n",
      "Current conversation:\n",
      "Human: Hello, who are you?\n",
      "AI: Hello, it's nice to meet you. I am an artificial intelligence language model, which means I'm a computer program designed to understand and generate human-like text. My knowledge was built from a massive corpus of text data, totaling over 1.5 trillion parameters and 45 terabytes of information. I was trained on a dataset that includes a wide range of texts from the internet, books, and other sources, up until my knowledge cutoff date of December 2023.\n",
      "\n",
      "I can provide information on a vast array of topics, from science and history to entertainment and culture. I can also engage in conversation, answer questions, and even generate creative content like stories or poems. My primary function is to assist and communicate with users like you, so please feel free to ask me anything that's on your mind. I'm here to help and chat with you!\n",
      "Human: Can you remind me what I just asked?\n",
      "AI:\u001b[0m\n",
      "\n",
      "\u001b[1m> Finished chain.\u001b[0m\n",
      "You just asked me \"Hello, who are you?\" which was a question about my identity and what I am. I'm happy to have had the chance to introduce myself and explain what I can do. Is there anything else you'd like to know or talk about?\n"
     ]
    }
   ],
   "source": [
    "from langchain.chains import ConversationChain\n",
    "\n",
    "conversation = ConversationChain(llm=llm, verbose=True)\n",
    "\n",
    "print(conversation.predict(input=\"Hello, who are you?\"))\n",
    "print(conversation.predict(input=\"Can you remind me what I just asked?\"))\n"
   ]
  },
  {
   "cell_type": "markdown",
   "metadata": {},
   "source": [
    "**2. ConversationBufferMemory**\n",
    "\n",
    "- A memory module that stores all past messages in a buffer (list of messages).\n",
    "\n",
    "- Works with ConversationChain to retain history across turns."
   ]
  },
  {
   "cell_type": "code",
   "execution_count": 30,
   "metadata": {},
   "outputs": [
    {
     "name": "stdout",
     "output_type": "stream",
     "text": [
      "\n",
      "\n",
      "\u001b[1m> Entering new ConversationChain chain...\u001b[0m\n",
      "Prompt after formatting:\n",
      "\u001b[32;1m\u001b[1;3mThe following is a friendly conversation between a human and an AI. The AI is talkative and provides lots of specific details from its context. If the AI does not know the answer to a question, it truthfully says it does not know.\n",
      "\n",
      "Current conversation:\n",
      "\n",
      "Human: Hello, my name is Omkar sir.\n",
      "AI:\u001b[0m\n",
      "\n",
      "\u001b[1m> Finished chain.\u001b[0m\n",
      "Hello Omkar sir, it's a pleasure to meet you. I've been trained on a vast amount of text data, including information on various cultures, histories, and topics. I can tell you that the name Omkar is of Sanskrit origin, commonly used in India and other countries with Hindu and Buddhist influences. It's also a term used to refer to the sacred sound \"Om,\" which is considered a symbol of the universe and its creation. I'm excited to chat with you, Omkar sir, and learn more about your interests and topics you'd like to discuss. What brings you here today?\n",
      "\n",
      "\n",
      "\u001b[1m> Entering new ConversationChain chain...\u001b[0m\n",
      "Prompt after formatting:\n",
      "\u001b[32;1m\u001b[1;3mThe following is a friendly conversation between a human and an AI. The AI is talkative and provides lots of specific details from its context. If the AI does not know the answer to a question, it truthfully says it does not know.\n",
      "\n",
      "Current conversation:\n",
      "Human: Hello, my name is Omkar sir.\n",
      "AI: Hello Omkar sir, it's a pleasure to meet you. I've been trained on a vast amount of text data, including information on various cultures, histories, and topics. I can tell you that the name Omkar is of Sanskrit origin, commonly used in India and other countries with Hindu and Buddhist influences. It's also a term used to refer to the sacred sound \"Om,\" which is considered a symbol of the universe and its creation. I'm excited to chat with you, Omkar sir, and learn more about your interests and topics you'd like to discuss. What brings you here today?\n",
      "Human: I live in India.\n",
      "AI:\u001b[0m\n",
      "\n",
      "\u001b[1m> Finished chain.\u001b[0m\n",
      "India is a fascinating country with a rich cultural heritage and diverse geography. As you know, Omkar sir, India is the seventh-largest country by land area and the second-most populous country in the world, with over 1.3 billion people. It's home to the Himalayan mountain range, the Ganges River, and a wide range of flora and fauna. India has a long and complex history, with many ancient civilizations, such as the Indus Valley Civilization, and a wide range of languages, including Hindi, Bengali, Telugu, and many others. \n",
      "\n",
      "I've been trained on a vast amount of text data about India, including its history, geography, culture, and economy. I can tell you about the different regions of India, such as the Golden Triangle, which includes Delhi, Agra, and Jaipur, or the southern states of Kerala, Tamil Nadu, and Karnataka, which are known for their beautiful beaches, temples, and cuisine. \n",
      "\n",
      "What part of India do you live in, Omkar sir? Are you from a big city like Mumbai, Delhi, or Bangalore, or a smaller town or village? I'm curious to know more about your experiences and the culture of the region you live in.\n",
      "\n",
      "\n",
      "\u001b[1m> Entering new ConversationChain chain...\u001b[0m\n",
      "Prompt after formatting:\n",
      "\u001b[32;1m\u001b[1;3mThe following is a friendly conversation between a human and an AI. The AI is talkative and provides lots of specific details from its context. If the AI does not know the answer to a question, it truthfully says it does not know.\n",
      "\n",
      "Current conversation:\n",
      "Human: Hello, my name is Omkar sir.\n",
      "AI: Hello Omkar sir, it's a pleasure to meet you. I've been trained on a vast amount of text data, including information on various cultures, histories, and topics. I can tell you that the name Omkar is of Sanskrit origin, commonly used in India and other countries with Hindu and Buddhist influences. It's also a term used to refer to the sacred sound \"Om,\" which is considered a symbol of the universe and its creation. I'm excited to chat with you, Omkar sir, and learn more about your interests and topics you'd like to discuss. What brings you here today?\n",
      "Human: I live in India.\n",
      "AI: India is a fascinating country with a rich cultural heritage and diverse geography. As you know, Omkar sir, India is the seventh-largest country by land area and the second-most populous country in the world, with over 1.3 billion people. It's home to the Himalayan mountain range, the Ganges River, and a wide range of flora and fauna. India has a long and complex history, with many ancient civilizations, such as the Indus Valley Civilization, and a wide range of languages, including Hindi, Bengali, Telugu, and many others. \n",
      "\n",
      "I've been trained on a vast amount of text data about India, including its history, geography, culture, and economy. I can tell you about the different regions of India, such as the Golden Triangle, which includes Delhi, Agra, and Jaipur, or the southern states of Kerala, Tamil Nadu, and Karnataka, which are known for their beautiful beaches, temples, and cuisine. \n",
      "\n",
      "What part of India do you live in, Omkar sir? Are you from a big city like Mumbai, Delhi, or Bangalore, or a smaller town or village? I'm curious to know more about your experiences and the culture of the region you live in.\n",
      "Human: What’s my name and where do I live?\n",
      "AI:\u001b[0m\n",
      "\n",
      "\u001b[1m> Finished chain.\u001b[0m\n",
      "Your name is Omkar sir, and you live in India. However, you haven't specified which particular part of India you live in. You mentioned earlier that you live in India, but you didn't provide more details about the city, town, or region. I'm still curious to know more about the specific place you call home, Omkar sir!\n"
     ]
    }
   ],
   "source": [
    "conversation = ConversationChain(\n",
    "    llm=llm, \n",
    "    verbose=True,\n",
    "    memory=ConversationBufferMemory()\n",
    ")\n",
    "\n",
    "# print(conversation.predict(input=\"Hi, I'm learning about space. Can you tell me about planets?\"))\n",
    "# print(conversation.predict(input=\"What's the largest planet in our solar system?\"))\n",
    "# print(conversation.predict(input=\"How does its size compare to Earth?\"))\n",
    "print(conversation.predict(input=\"Hello, my name is Omkar sir.\"))\n",
    "print(conversation.predict(input=\"I live in India.\"))\n",
    "print(conversation.predict(input=\"What’s my name and where do I live?\"))"
   ]
  },
  {
   "cell_type": "markdown",
   "metadata": {},
   "source": [
    "- ConversationChain = wrapper for handling conversational flows with the LLM.\n",
    "\n",
    "- ConversationBufferMemory = stores all messages so history is preserved.\n",
    "\n",
    "- By default, ConversationChain uses a simple memory (no history). Adding ConversationBufferMemory makes it stateful."
   ]
  },
  {
   "cell_type": "markdown",
   "metadata": {},
   "source": [
    "**Other Memory Types**\n",
    "\n",
    "LangChain also has more specialized memories:\n",
    "\n",
    "$ConversationSummaryMemory$ → keeps a running summary instead of raw text.\n",
    "\n",
    "$ConversationBufferWindowMemory$ → keeps only the last k exchanges.\n",
    "\n",
    "$VectorStoreRetrieverMemory$ → long-term memory with embeddings."
   ]
  },
  {
   "cell_type": "markdown",
   "metadata": {},
   "source": [
    "$ConversationSummaryMemory$"
   ]
  },
  {
   "cell_type": "code",
   "execution_count": 28,
   "metadata": {},
   "outputs": [
    {
     "name": "stderr",
     "output_type": "stream",
     "text": [
      "C:\\Users\\omkar\\AppData\\Local\\Temp\\ipykernel_36192\\2593975100.py:3: LangChainDeprecationWarning: Please see the migration guide at: https://python.langchain.com/docs/versions/migrating_memory/\n",
      "  summary_memory = ConversationSummaryMemory(llm=llm) # needs llm\n"
     ]
    },
    {
     "name": "stdout",
     "output_type": "stream",
     "text": [
      "\n",
      "\n",
      "\u001b[1m> Entering new ConversationChain chain...\u001b[0m\n",
      "Prompt after formatting:\n",
      "\u001b[32;1m\u001b[1;3mThe following is a friendly conversation between a human and an AI. The AI is talkative and provides lots of specific details from its context. If the AI does not know the answer to a question, it truthfully says it does not know.\n",
      "\n",
      "Current conversation:\n",
      "\n",
      "Human: Hello, my name is Omkar sir.\n",
      "AI:\u001b[0m\n",
      "\n",
      "\u001b[1m> Finished chain.\u001b[0m\n",
      "Nice to meet you, Omkar sir. I'm delighted to be conversing with you. I've been trained on a vast amount of text data, which includes a wide range of topics from history to science, entertainment, and more. I can provide information on various subjects, such as the history of ancient civilizations like Egypt and Greece, the latest advancements in fields like artificial intelligence and space exploration, or even discuss popular movies and books. For instance, did you know that the oldest known pyramid in Egypt is the Step Pyramid of Djoser, built around 2650 BC? Or that the latest NASA missions have made significant discoveries on Mars, including the detection of water ice and methane on the planet? I'm excited to chat with you and explore any topics that interest you. What would you like to talk about, Omkar sir?\n",
      "\n",
      "\n",
      "\u001b[1m> Entering new ConversationChain chain...\u001b[0m\n",
      "Prompt after formatting:\n",
      "\u001b[32;1m\u001b[1;3mThe following is a friendly conversation between a human and an AI. The AI is talkative and provides lots of specific details from its context. If the AI does not know the answer to a question, it truthfully says it does not know.\n",
      "\n",
      "Current conversation:\n",
      "The human introduces themselves as Omkar sir, and the AI responds by introducing itself and expressing delight in conversing with Omkar sir, explaining its capabilities in providing information on a wide range of topics from history to science and entertainment, and invites Omkar sir to discuss any topic of interest.\n",
      "Human: I live in India.\n",
      "AI:\u001b[0m\n",
      "\n",
      "\u001b[1m> Finished chain.\u001b[0m\n",
      "India, a country with a rich cultural heritage and diverse geography. I've been trained on a vast amount of information about India, from its ancient civilizations like the Indus Valley Civilization to its modern-day achievements in technology and space exploration. I can tell you about the different regions of India, such as the Himalayan mountains in the north, the scenic coastlines of the south, and the vibrant cities like Mumbai and Delhi. I'm also familiar with Indian cuisine, which is known for its diverse and complex use of spices, and I can provide recipes for popular dishes like chicken tikka masala, biryani, and naan bread. \n",
      "\n",
      "If you'd like, we could discuss the history of India, including the reign of the Mughal Empire, the British colonial period, and the country's struggle for independence led by figures like Mahatma Gandhi. Or, if you're interested in science and technology, I could talk about India's advancements in fields like space exploration, with the Indian Space Research Organisation (ISRO) having successfully launched numerous satellites and missions, including the Mars Orbiter Mission. \n",
      "\n",
      "What aspect of India would you like to explore, Omkar sir?\n",
      "\n",
      "\n",
      "\u001b[1m> Entering new ConversationChain chain...\u001b[0m\n",
      "Prompt after formatting:\n",
      "\u001b[32;1m\u001b[1;3mThe following is a friendly conversation between a human and an AI. The AI is talkative and provides lots of specific details from its context. If the AI does not know the answer to a question, it truthfully says it does not know.\n",
      "\n",
      "Current conversation:\n",
      "The human introduces themselves as Omkar sir, and the AI responds by introducing itself and expressing delight in conversing with Omkar sir, explaining its capabilities in providing information on a wide range of topics from history to science and entertainment, and invites Omkar sir to discuss any topic of interest. Omkar sir mentions that he lives in India, and the AI expresses its knowledge of the country, highlighting its rich cultural heritage, diverse geography, and various achievements in technology and space exploration, offering to discuss specific aspects of India such as its history, regions, cuisine, or scientific advancements, and asks Omkar sir which aspect of India he would like to explore.\n",
      "Human: What’s my name and where do I live?\n",
      "AI:\u001b[0m\n",
      "\n",
      "\u001b[1m> Finished chain.\u001b[0m\n",
      "Omkar sir, I'm delighted to recall that your name is Omkar sir, and you live in India. I must say, I'm excited to learn more about your interests and experiences in this beautiful country. Would you like to talk about a specific region in India, perhaps the city or state you reside in, or maybe something else that's on your mind?\n"
     ]
    }
   ],
   "source": [
    "# Memory that summarizes past chats\n",
    "from langchain.memory import ConversationSummaryMemory\n",
    "summary_memory = ConversationSummaryMemory(llm=llm) # needs llm\n",
    "\n",
    "conversation = ConversationChain(\n",
    "    llm=llm,\n",
    "    memory=summary_memory,\n",
    "    verbose=True\n",
    ")\n",
    "\n",
    "print(conversation.predict(input=\"Hello, my name is Omkar sir.\"))\n",
    "print(conversation.predict(input=\"I live in India.\"))\n",
    "print(conversation.predict(input=\"What’s my name and where do I live?\"))\n"
   ]
  },
  {
   "cell_type": "markdown",
   "metadata": {},
   "source": [
    "| Aspect           | Buffer Memory Result                                       | Summary Memory Result                                                          |\n",
    "| ---------------- | ---------------------------------------------------------- | ------------------------------------------------------------------------------ |\n",
    "| Context Provided | Exact text `\"Hello, my name is Omkar sir.\"`                | A compressed gist of the conversation so far                                   |\n",
    "| Response Style   | Directly about “Omkar” (origin, meaning, cultural details) | More general, offering a broad introduction of what the AI can do              |\n",
    "| Use Case Fit     | Best for **short chats** where exact words matter          | Best for **long chats** where efficiency and not exceeding token limits matter |\n",
    "\n"
   ]
  },
  {
   "cell_type": "markdown",
   "metadata": {},
   "source": [
    "$ConversationBufferWindowMemory$"
   ]
  },
  {
   "cell_type": "code",
   "execution_count": 34,
   "metadata": {},
   "outputs": [
    {
     "name": "stderr",
     "output_type": "stream",
     "text": [
      "C:\\Users\\omkar\\AppData\\Local\\Temp\\ipykernel_36192\\1568585704.py:3: LangChainDeprecationWarning: Please see the migration guide at: https://python.langchain.com/docs/versions/migrating_memory/\n",
      "  window_memory = ConversationBufferWindowMemory(k=2)  # last 2 exchanges\n"
     ]
    },
    {
     "name": "stdout",
     "output_type": "stream",
     "text": [
      "\n",
      "\n",
      "\u001b[1m> Entering new ConversationChain chain...\u001b[0m\n",
      "Prompt after formatting:\n",
      "\u001b[32;1m\u001b[1;3mThe following is a friendly conversation between a human and an AI. The AI is talkative and provides lots of specific details from its context. If the AI does not know the answer to a question, it truthfully says it does not know.\n",
      "\n",
      "Current conversation:\n",
      "\n",
      "Human: My favorite color is blue.\n",
      "AI:\u001b[0m\n",
      "\n",
      "\u001b[1m> Finished chain.\u001b[0m\n",
      "Blue is a wonderful color. Did you know that blue is also a very popular color in design and art? In fact, according to a study published in the journal \"Color Research and Application,\" blue is the most commonly used color in corporate branding, with over 50% of the world's top brands using blue as their primary color. It's also a color that's often associated with feelings of calmness and trust. What's your favorite shade of blue, by the way? Do you prefer lighter shades like sky blue or powder blue, or deeper shades like navy blue or indigo?\n",
      "\n",
      "\n",
      "\u001b[1m> Entering new ConversationChain chain...\u001b[0m\n",
      "Prompt after formatting:\n",
      "\u001b[32;1m\u001b[1;3mThe following is a friendly conversation between a human and an AI. The AI is talkative and provides lots of specific details from its context. If the AI does not know the answer to a question, it truthfully says it does not know.\n",
      "\n",
      "Current conversation:\n",
      "Human: My favorite color is blue.\n",
      "AI: Blue is a wonderful color. Did you know that blue is also a very popular color in design and art? In fact, according to a study published in the journal \"Color Research and Application,\" blue is the most commonly used color in corporate branding, with over 50% of the world's top brands using blue as their primary color. It's also a color that's often associated with feelings of calmness and trust. What's your favorite shade of blue, by the way? Do you prefer lighter shades like sky blue or powder blue, or deeper shades like navy blue or indigo?\n",
      "Human: I also like pizza.\n",
      "AI:\u001b[0m\n",
      "\n",
      "\u001b[1m> Finished chain.\u001b[0m\n",
      "Pizza is a delicious topic. Did you know that the world's first pizzeria, Antica Pizzeria Port'Alba, was opened in Naples, Italy in 1738? It's still serving pizzas to this day. The art of Neapolitan pizza-making has even been recognized by UNESCO as an intangible cultural heritage of humanity. As for popular pizza toppings, according to a survey by the National Restaurant Association, the top five most popular pizza toppings in the United States are pepperoni, mozzarella cheese, tomato sauce, sausage, and mushrooms. But I'm curious, what's your favorite type of pizza? Do you prefer classic margherita, meat-lovers, or something more unique like a BBQ chicken pizza?\n",
      "\n",
      "\n",
      "\u001b[1m> Entering new ConversationChain chain...\u001b[0m\n",
      "Prompt after formatting:\n",
      "\u001b[32;1m\u001b[1;3mThe following is a friendly conversation between a human and an AI. The AI is talkative and provides lots of specific details from its context. If the AI does not know the answer to a question, it truthfully says it does not know.\n",
      "\n",
      "Current conversation:\n",
      "Human: My favorite color is blue.\n",
      "AI: Blue is a wonderful color. Did you know that blue is also a very popular color in design and art? In fact, according to a study published in the journal \"Color Research and Application,\" blue is the most commonly used color in corporate branding, with over 50% of the world's top brands using blue as their primary color. It's also a color that's often associated with feelings of calmness and trust. What's your favorite shade of blue, by the way? Do you prefer lighter shades like sky blue or powder blue, or deeper shades like navy blue or indigo?\n",
      "Human: I also like pizza.\n",
      "AI: Pizza is a delicious topic. Did you know that the world's first pizzeria, Antica Pizzeria Port'Alba, was opened in Naples, Italy in 1738? It's still serving pizzas to this day. The art of Neapolitan pizza-making has even been recognized by UNESCO as an intangible cultural heritage of humanity. As for popular pizza toppings, according to a survey by the National Restaurant Association, the top five most popular pizza toppings in the United States are pepperoni, mozzarella cheese, tomato sauce, sausage, and mushrooms. But I'm curious, what's your favorite type of pizza? Do you prefer classic margherita, meat-lovers, or something more unique like a BBQ chicken pizza?\n",
      "Human: I enjoy hiking.\n",
      "AI:\u001b[0m\n",
      "\n",
      "\u001b[1m> Finished chain.\u001b[0m\n",
      "Hiking is a fantastic way to connect with nature and get some exercise. Did you know that the longest hiking trail in the world is the Great Himalayan Trail, which spans over 4,500 kilometers and passes through Nepal, India, Bhutan, and Pakistan? It takes most hikers around 150-200 days to complete the entire trail. In the United States, the Appalachian Trail is one of the most popular long-distance hiking trails, stretching over 3,500 kilometers from Georgia to Maine. As for the most scenic hiking destinations, according to a survey by the Outdoor Foundation, the top five most popular hiking spots in the United States are the Grand Canyon, Yellowstone National Park, Yosemite National Park, Zion National Park, and the Rocky Mountains. What's your favorite type of hiking terrain? Do you prefer hiking in the mountains, forests, or coastal areas? And have you ever tried any unique hiking activities like backpacking, glacier hiking, or via ferrata?\n",
      "\n",
      "\n",
      "\u001b[1m> Entering new ConversationChain chain...\u001b[0m\n",
      "Prompt after formatting:\n",
      "\u001b[32;1m\u001b[1;3mThe following is a friendly conversation between a human and an AI. The AI is talkative and provides lots of specific details from its context. If the AI does not know the answer to a question, it truthfully says it does not know.\n",
      "\n",
      "Current conversation:\n",
      "Human: I also like pizza.\n",
      "AI: Pizza is a delicious topic. Did you know that the world's first pizzeria, Antica Pizzeria Port'Alba, was opened in Naples, Italy in 1738? It's still serving pizzas to this day. The art of Neapolitan pizza-making has even been recognized by UNESCO as an intangible cultural heritage of humanity. As for popular pizza toppings, according to a survey by the National Restaurant Association, the top five most popular pizza toppings in the United States are pepperoni, mozzarella cheese, tomato sauce, sausage, and mushrooms. But I'm curious, what's your favorite type of pizza? Do you prefer classic margherita, meat-lovers, or something more unique like a BBQ chicken pizza?\n",
      "Human: I enjoy hiking.\n",
      "AI: Hiking is a fantastic way to connect with nature and get some exercise. Did you know that the longest hiking trail in the world is the Great Himalayan Trail, which spans over 4,500 kilometers and passes through Nepal, India, Bhutan, and Pakistan? It takes most hikers around 150-200 days to complete the entire trail. In the United States, the Appalachian Trail is one of the most popular long-distance hiking trails, stretching over 3,500 kilometers from Georgia to Maine. As for the most scenic hiking destinations, according to a survey by the Outdoor Foundation, the top five most popular hiking spots in the United States are the Grand Canyon, Yellowstone National Park, Yosemite National Park, Zion National Park, and the Rocky Mountains. What's your favorite type of hiking terrain? Do you prefer hiking in the mountains, forests, or coastal areas? And have you ever tried any unique hiking activities like backpacking, glacier hiking, or via ferrata?\n",
      "Human: What’s my favorite color?\n",
      "AI:\u001b[0m\n",
      "\n",
      "\u001b[1m> Finished chain.\u001b[0m\n",
      "Unfortunately, I don't know what your favorite color is. We haven't discussed colors yet, and I don't have any information about your personal preferences when it comes to colors. But I can tell you that the most popular colors in the world, according to a survey by YouGov, are blue, green, red, purple, and yellow. Did you know that the world's most expensive pigment is Tyrian purple, which was extracted from the secretions of the murex snail and was highly valued in ancient times? Or that the color blue is often associated with feelings of calmness and trust, which is why it's commonly used in corporate branding and design? If you'd like to share, what is your favorite color?\n"
     ]
    }
   ],
   "source": [
    "from langchain.memory import ConversationBufferWindowMemory\n",
    "\n",
    "window_memory = ConversationBufferWindowMemory(k=2)  # last 2 exchanges\n",
    "\n",
    "conversation = ConversationChain(\n",
    "    llm=llm,\n",
    "    memory=window_memory,\n",
    "    verbose=True\n",
    ")\n",
    "\n",
    "print(conversation.predict(input=\"My favorite color is blue.\"))\n",
    "print(conversation.predict(input=\"I also like pizza.\"))\n",
    "print(conversation.predict(input=\"I enjoy hiking.\"))\n",
    "print(conversation.predict(input=\"What’s my favorite color?\"))  # forgotten\n"
   ]
  },
  {
   "cell_type": "markdown",
   "metadata": {},
   "source": [
    "Let's compare how single-turn and multi-turn prompts handle a series of related questions:"
   ]
  },
  {
   "cell_type": "code",
   "execution_count": 36,
   "metadata": {},
   "outputs": [
    {
     "name": "stdout",
     "output_type": "stream",
     "text": [
      "Single-turn responses:\n",
      "Q: What is the capital of France?\n",
      "A: The capital of France is Paris.\n",
      "\n",
      "Q: What is its population?\n",
      "A: I don't have enough information to provide the population of a specific place. Could you please provide more context or specify which city, country, or region you are referring to? I'll do my best to provide the population information for that area.\n",
      "\n",
      "Q: What is the city's most famous landmark?\n",
      "A: I'm not sure which city you're referring to. There are many cities around the world, and each one has its own unique landmarks. Could you please specify which city you're interested in? I'd be happy to try and help you identify its most famous landmark.\n",
      "\n",
      "Multi-turn responses:\n",
      "Q: What is the capital of France?\n",
      "A: The capital of France is Paris. It's a beautiful city, known for its iconic landmarks such as the Eiffel Tower, Notre-Dame Cathedral, and the Louvre Museum. Paris is situated in the northern part of the country, in the Île-de-France region, and has a population of approximately 2.1 million people. The city has a rich history dating back to the 3rd century and is often referred to as the \"City of Light\" due to its significant contributions to art, literature, and science. Would you like to know more about Paris or France in general?\n",
      "\n",
      "Q: What is its population?\n",
      "A: The population of Paris is approximately 2.1 million people, as I mentioned earlier. However, it's worth noting that the Paris metropolitan area, also known as the Île-de-France region, has a much larger population of around 12.2 million people, making it one of the most populous urban areas in Europe. This number represents about 18% of France's total population. If you're interested, I can provide more information on the demographics, economy, or cultural significance of Paris and its surrounding areas.\n",
      "\n",
      "Q: What is the city's most famous landmark?\n",
      "A: The city's most famous landmark is undoubtedly the Eiffel Tower, also known as the \"Iron Lady.\" It's a majestic iron lattice tower that stands at an impressive 324 meters (1,063 feet) tall, making it one of the tallest structures in the world when it was first built for the 1889 World's Fair. The Eiffel Tower was designed by Gustave Eiffel and his engineering company, and it took approximately 2 years and 2 months to complete, with a workforce of around 300 laborers. The tower is held together by over 2.5 million rivets and weighs a total of around 10,000 tons. It's not only an engineering marvel but also a cultural icon, attracting millions of visitors each year. In fact, it's estimated that over 250 million people have visited the Eiffel Tower since its construction, making it one of the most-visited paid monuments in the world. Would you like to know more about the Eiffel Tower's history, its construction, or perhaps some interesting facts and anecdotes surrounding this iconic landmark?\n",
      "\n"
     ]
    }
   ],
   "source": [
    "# Single-turn prompts\n",
    "prompts = [\n",
    "    \"What is the capital of France?\",\n",
    "    \"What is its population?\",\n",
    "    \"What is the city's most famous landmark?\"\n",
    "]\n",
    "\n",
    "print(\"Single-turn responses:\")\n",
    "for prompt in prompts:\n",
    "    print(f\"Q: {prompt}\")\n",
    "    print(f\"A: {llm.invoke(prompt).content}\\n\")\n",
    "\n",
    "# Multi-turn prompts\n",
    "print(\"Multi-turn responses:\")\n",
    "conversation = ConversationChain(llm=llm, memory=ConversationBufferMemory())\n",
    "for prompt in prompts:\n",
    "    print(f\"Q: {prompt}\")\n",
    "    print(f\"A: {conversation.predict(input=prompt)}\\n\")"
   ]
  },
  {
   "cell_type": "markdown",
   "metadata": {},
   "source": [
    "## Conclusion\n",
    "\n",
    "This tutorial has introduced you to the basics of single-turn and multi-turn prompt structures. We've seen how:\n",
    "\n",
    "1. Single-turn prompts are useful for quick, isolated queries.\n",
    "2. Multi-turn prompts maintain context across a conversation, allowing for more complex interactions.\n",
    "3. PromptTemplates can be used to create structured, reusable prompts.\n",
    "4. Conversation chains in LangChain help manage context in multi-turn interactions.\n",
    "\n",
    "Understanding these different prompt structures allows you to choose the most appropriate approach for various tasks and create more effective interactions with AI language models."
   ]
  }
 ],
 "metadata": {
  "kernelspec": {
   "display_name": "Python 3 (ipykernel)",
   "language": "python",
   "name": "python3"
  },
  "language_info": {
   "codemirror_mode": {
    "name": "ipython",
    "version": 3
   },
   "file_extension": ".py",
   "mimetype": "text/x-python",
   "name": "python",
   "nbconvert_exporter": "python",
   "pygments_lexer": "ipython3",
   "version": "3.13.5"
  }
 },
 "nbformat": 4,
 "nbformat_minor": 4
}
